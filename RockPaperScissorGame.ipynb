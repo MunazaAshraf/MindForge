{
  "nbformat": 4,
  "nbformat_minor": 0,
  "metadata": {
    "colab": {
      "provenance": [],
      "authorship_tag": "ABX9TyPEfy/mvj3FWEHNNyORB5KX",
      "include_colab_link": true
    },
    "kernelspec": {
      "name": "python3",
      "display_name": "Python 3"
    },
    "language_info": {
      "name": "python"
    }
  },
  "cells": [
    {
      "cell_type": "markdown",
      "metadata": {
        "id": "view-in-github",
        "colab_type": "text"
      },
      "source": [
        "<a href=\"https://colab.research.google.com/github/MunazaAshraf/MindForge/blob/main/RockPaperScissorGame.ipynb\" target=\"_parent\"><img src=\"https://colab.research.google.com/assets/colab-badge.svg\" alt=\"Open In Colab\"/></a>"
      ]
    },
    {
      "cell_type": "code",
      "execution_count": null,
      "metadata": {
        "colab": {
          "base_uri": "https://localhost:8080/"
        },
        "id": "0ebdWnv_vtrG",
        "outputId": "cab60f2e-8391-4907-bbfb-fe14db1551d4"
      },
      "outputs": [
        {
          "name": "stdout",
          "output_type": "stream",
          "text": [
            "What's your name?m\n",
            "What's your name?k\n",
            "What's your name?y\n"
          ]
        }
      ],
      "source": [
        "names = []\n",
        "\n",
        "for _ in range(3):\n",
        "    name = input(\"What's your name?\" )\n",
        "    names.append(name)"
      ]
    },
    {
      "cell_type": "code",
      "source": [
        "print(names)"
      ],
      "metadata": {
        "colab": {
          "base_uri": "https://localhost:8080/"
        },
        "id": "Fib986BBxRDe",
        "outputId": "766f1134-1699-4f12-e277-8d05393e3439"
      },
      "execution_count": null,
      "outputs": [
        {
          "output_type": "stream",
          "name": "stdout",
          "text": [
            "['m', 'k', 'y']\n"
          ]
        }
      ]
    },
    {
      "cell_type": "code",
      "source": [
        "name = input(\"What's your name? \")\n",
        "\n",
        "file = open(\"names.txt\", \"w\")\n",
        "file.write(name)\n",
        "file.close()"
      ],
      "metadata": {
        "colab": {
          "base_uri": "https://localhost:8080/"
        },
        "id": "tNzI5jtNzeNN",
        "outputId": "345c9610-c24b-4e00-982c-b574f3b5f684"
      },
      "execution_count": null,
      "outputs": [
        {
          "name": "stdout",
          "output_type": "stream",
          "text": [
            "What's your name? munaza\n"
          ]
        }
      ]
    },
    {
      "cell_type": "code",
      "source": [
        "name = input(\"What's your name? \")\n",
        "\n",
        "file = open(\"names.txt\", \"a\")\n",
        "file.write(name)\n",
        "file.close()"
      ],
      "metadata": {
        "colab": {
          "base_uri": "https://localhost:8080/"
        },
        "id": "ZX9ZgU-6zt6v",
        "outputId": "405f94fb-a38c-427c-8424-967f632230cf"
      },
      "execution_count": null,
      "outputs": [
        {
          "name": "stdout",
          "output_type": "stream",
          "text": [
            "What's your name? marco\n"
          ]
        }
      ]
    },
    {
      "cell_type": "code",
      "source": [
        "name = input(\"What's your name? \")\n",
        "\n",
        "file = open(\"names.txt\", \"a\")\n",
        "file.write(f\"{name}\\n\")\n",
        "file.close()"
      ],
      "metadata": {
        "colab": {
          "base_uri": "https://localhost:8080/"
        },
        "id": "5VJ6dnro0obG",
        "outputId": "6ece484b-1400-4ad6-b9d0-b6a0757722a7"
      },
      "execution_count": null,
      "outputs": [
        {
          "name": "stdout",
          "output_type": "stream",
          "text": [
            "What's your name? mm\n"
          ]
        }
      ]
    },
    {
      "cell_type": "code",
      "source": [
        "name = input(\"What's your name? \")\n",
        "\n",
        "with open(\"names.txt\", \"a\") as file:\n",
        "    file.write(f\"{name}\\n\")"
      ],
      "metadata": {
        "colab": {
          "base_uri": "https://localhost:8080/"
        },
        "id": "ujRsguZw13hF",
        "outputId": "5e2be32b-325e-475f-b892-dc6d6b434874"
      },
      "execution_count": null,
      "outputs": [
        {
          "name": "stdout",
          "output_type": "stream",
          "text": [
            "What's your name? tt\n"
          ]
        }
      ]
    },
    {
      "cell_type": "code",
      "source": [
        "with open(\"names.txt\", \"r\") as file:\n",
        "    lines = file.readlines()\n",
        "\n",
        "for line in lines:\n",
        "    print( line)"
      ],
      "metadata": {
        "colab": {
          "base_uri": "https://localhost:8080/"
        },
        "id": "VseHO4sZ3qyw",
        "outputId": "05598f97-0eca-4582-b3f9-ec6284ec4c2c"
      },
      "execution_count": null,
      "outputs": [
        {
          "output_type": "stream",
          "name": "stdout",
          "text": [
            "munazamarcomm\n",
            "\n",
            "tt\n",
            "\n"
          ]
        }
      ]
    },
    {
      "cell_type": "code",
      "source": [
        "with open(\"names.txt\", \"r\") as file:\n",
        "    lines = file.readlines()\n",
        "\n",
        "for line in lines:\n",
        "    print(\"hello,\", line.rstrip())"
      ],
      "metadata": {
        "colab": {
          "base_uri": "https://localhost:8080/"
        },
        "id": "uSnsgLdZ3up4",
        "outputId": "14d283a8-ba6a-4af6-ff0a-74fa6f279008"
      },
      "execution_count": null,
      "outputs": [
        {
          "output_type": "stream",
          "name": "stdout",
          "text": [
            "hello, munazamarcomm\n",
            "hello, tt\n"
          ]
        }
      ]
    },
    {
      "cell_type": "code",
      "source": [
        "import random\n",
        "\n",
        "print('Winning rules of the game ROCK PAPER SCISSORS are:\\n'\n",
        "\t+ \"Rock vs Paper -> Paper wins\\n\"\n",
        "\t+ \"Rock vs Scissors -> Rock wins\\n\"\n",
        "\t+ \"Paper vs Scissors -> Scissors wins\\n\")\n",
        "\n",
        "while True:\n",
        "    print(\"Enter your choice:\\n\"\n",
        "          \"1 - Rock\\n\"\n",
        "          \"2 - Paper\\n\"\n",
        "          \"3 - Scissors\\n\")\n",
        "\n",
        "    choice = int(input(\"Enter your choice: \"))\n",
        "\n",
        "    while choice > 3 or choice < 1:\n",
        "        choice = int(input('Enter a valid choice, please: '))\n",
        "\n",
        "    if choice == 1:\n",
        "        choice_name = 'Rock'\n",
        "    elif choice == 2:\n",
        "        choice_name = 'Paper'\n",
        "    else:\n",
        "        choice_name = 'Scissors'\n",
        "\n",
        "    print('User choice is:', choice_name)\n",
        "    print('Now it\\'s the Computer\\'s Turn...')\n",
        "\n",
        "    comp_choice = random.randint(1, 3)\n",
        "\n",
        "    while comp_choice == choice:\n",
        "        comp_choice = random.randint(1, 3)\n",
        "\n",
        "    if comp_choice == 1:\n",
        "        comp_choice_name = 'Rock'\n",
        "    elif comp_choice == 2:\n",
        "        comp_choice_name = 'Paper'\n",
        "    else:\n",
        "        comp_choice_name = 'Scissors'\n",
        "\n",
        "    print(\"Computer choice is:\", comp_choice_name)\n",
        "    print(choice_name, 'Vs', comp_choice_name)\n",
        "\n",
        "    result = \"\"\n",
        "    if choice == comp_choice:\n",
        "        print('It\\'s a Draw')\n",
        "        result = \"DRAW\"\n",
        "\n",
        "    if (choice == 1 and comp_choice == 2) or (choice == 2 and comp_choice == 1):\n",
        "        print('Paper wins =>', end=\"\")\n",
        "        result = 'Paper'\n",
        "\n",
        "    if (choice == 1 and comp_choice == 3) or (choice == 3 and comp_choice == 1):\n",
        "        print('Rock wins =>', end=\"\")\n",
        "        result = 'Rock'\n",
        "\n",
        "    if (choice == 2 and comp_choice == 3) or (choice == 3 and comp_choice == 2):\n",
        "        print('Scissors wins =>', end=\"\")\n",
        "        result = 'Scissors'\n",
        "\n",
        "    if result == 'DRAW':\n",
        "        print(\"<== It's a tie ==>\")\n",
        "    elif result == choice_name:\n",
        "        print(\"<== User wins ==>\")\n",
        "    else:\n",
        "        print(\"<== Computer wins ==>\")\n",
        "\n",
        "    print(\"Do you want to play again? (Y/N)\")\n",
        "    ans = input().lower()\n",
        "    if ans == 'n':\n",
        "        break\n",
        "\n",
        "print(\"Thanks for playing\")\n"
      ],
      "metadata": {
        "colab": {
          "base_uri": "https://localhost:8080/"
        },
        "id": "ZGJTX3TdHeAg",
        "outputId": "498205f0-7c72-4c14-8006-c170aa10ef98"
      },
      "execution_count": 1,
      "outputs": [
        {
          "output_type": "stream",
          "name": "stdout",
          "text": [
            "Winning rules of the game ROCK PAPER SCISSORS are:\n",
            "Rock vs Paper -> Paper wins\n",
            "Rock vs Scissors -> Rock wins\n",
            "Paper vs Scissors -> Scissors wins\n",
            "\n",
            "Enter your choice:\n",
            "1 - Rock\n",
            "2 - Paper\n",
            "3 - Scissors\n",
            "\n",
            "Enter your choice: 1\n",
            "User choice is: Rock\n",
            "Now it's the Computer's Turn...\n",
            "Computer choice is: Paper\n",
            "Rock Vs Paper\n",
            "Paper wins =><== Computer wins ==>\n",
            "Do you want to play again? (Y/N)\n",
            "y\n",
            "Enter your choice:\n",
            "1 - Rock\n",
            "2 - Paper\n",
            "3 - Scissors\n",
            "\n",
            "Enter your choice: 3\n",
            "User choice is: Scissors\n",
            "Now it's the Computer's Turn...\n",
            "Computer choice is: Paper\n",
            "Scissors Vs Paper\n",
            "Scissors wins =><== User wins ==>\n",
            "Do you want to play again? (Y/N)\n",
            "n\n",
            "Thanks for playing\n"
          ]
        }
      ]
    }
  ]
}